{
 "cells": [
  {
   "cell_type": "markdown",
   "id": "06b0a9ea",
   "metadata": {},
   "source": [
    "# Import Required Libraries\n",
    "Import libraries such as pandas, matplotlib, and numpy for data analysis and visualization."
   ]
  },
  {
   "cell_type": "code",
   "execution_count": 1,
   "id": "d73c2001",
   "metadata": {},
   "outputs": [],
   "source": [
    "# Import Required Libraries\n",
    "import pandas as pd\n",
    "import matplotlib.pyplot as plt\n",
    "import numpy as np\n",
    "import re"
   ]
  },
  {
   "cell_type": "markdown",
   "id": "4e4efd28",
   "metadata": {},
   "source": [
    "# Parse Log File and Extract Data\n",
    "Extract relevant data directly from the .log file for analysis."
   ]
  },
  {
   "cell_type": "code",
   "execution_count": 3,
   "id": "2c22c341",
   "metadata": {},
   "outputs": [
    {
     "ename": "PatternError",
     "evalue": "unbalanced parenthesis at position 44",
     "output_type": "error",
     "traceback": [
      "\u001b[31m---------------------------------------------------------------------------\u001b[39m",
      "\u001b[31mPatternError\u001b[39m                              Traceback (most recent call last)",
      "\u001b[36mCell\u001b[39m\u001b[36m \u001b[39m\u001b[32mIn[3]\u001b[39m\u001b[32m, line 13\u001b[39m\n\u001b[32m     10\u001b[39m timestamp_pattern = re.compile(\u001b[33mr\u001b[39m\u001b[33m'\u001b[39m\u001b[33m^(\u001b[39m\u001b[33m\\\u001b[39m\u001b[33md\u001b[39m\u001b[38;5;132;01m{4}\u001b[39;00m\u001b[33m-\u001b[39m\u001b[33m\\\u001b[39m\u001b[33md\u001b[39m\u001b[38;5;132;01m{2}\u001b[39;00m\u001b[33m-\u001b[39m\u001b[33m\\\u001b[39m\u001b[33md\u001b[39m\u001b[38;5;132;01m{2}\u001b[39;00m\u001b[33m \u001b[39m\u001b[33m\\\u001b[39m\u001b[33md\u001b[39m\u001b[38;5;132;01m{2}\u001b[39;00m\u001b[33m:\u001b[39m\u001b[33m\\\u001b[39m\u001b[33md\u001b[39m\u001b[38;5;132;01m{2}\u001b[39;00m\u001b[33m:\u001b[39m\u001b[33m\\\u001b[39m\u001b[33md\u001b[39m\u001b[38;5;132;01m{2}\u001b[39;00m\u001b[33m,\u001b[39m\u001b[33m\\\u001b[39m\u001b[33md\u001b[39m\u001b[38;5;132;01m{3}\u001b[39;00m\u001b[33m)\u001b[39m\u001b[33m'\u001b[39m)\n\u001b[32m     11\u001b[39m left_wrist_pattern = re.compile(\u001b[33mr\u001b[39m\u001b[33m'\u001b[39m\u001b[33mLeft Wrist Analysis:.*?Position: \u001b[39m\u001b[33m\\\u001b[39m\u001b[33m(([\u001b[39m\u001b[33m\\\u001b[39m\u001b[33md\u001b[39m\u001b[33m\\\u001b[39m\u001b[33m.-]+), ([\u001b[39m\u001b[33m\\\u001b[39m\u001b[33md\u001b[39m\u001b[33m\\\u001b[39m\u001b[33m.-]+), ([\u001b[39m\u001b[33m\\\u001b[39m\u001b[33md\u001b[39m\u001b[33m\\\u001b[39m\u001b[33m.-]+)\u001b[39m\u001b[33m\\\u001b[39m\u001b[33m)\u001b[39m\u001b[33m'\u001b[39m)\n\u001b[32m---> \u001b[39m\u001b[32m13\u001b[39m right_wrist_pattern = \u001b[43mre\u001b[49m\u001b[43m.\u001b[49m\u001b[43mcompile\u001b[49m\u001b[43m(\u001b[49m\u001b[33;43mr\u001b[39;49m\u001b[33;43m'\u001b[39;49m\u001b[33;43mRight Wrist Analysis:.*?Position: \u001b[39;49m\u001b[33;43m\\\u001b[39;49m\u001b[33;43m([\u001b[39;49m\u001b[33;43m\\\u001b[39;49m\u001b[33;43md\u001b[39;49m\u001b[33;43m\\\u001b[39;49m\u001b[33;43m.-]+), ([\u001b[39;49m\u001b[33;43m\\\u001b[39;49m\u001b[33;43md\u001b[39;49m\u001b[33;43m\\\u001b[39;49m\u001b[33;43m.-]+), ([\u001b[39;49m\u001b[33;43m\\\u001b[39;49m\u001b[33;43md\u001b[39;49m\u001b[33;43m\\\u001b[39;49m\u001b[33;43m.-]+)\u001b[39;49m\u001b[33;43m\\\u001b[39;49m\u001b[33;43m)\u001b[39;49m\u001b[33;43m'\u001b[39;49m\u001b[43m)\u001b[49m\n\u001b[32m     15\u001b[39m \u001b[38;5;66;03m# Read the log file\u001b[39;00m\n\u001b[32m     16\u001b[39m \u001b[38;5;28;01mwith\u001b[39;00m \u001b[38;5;28mopen\u001b[39m(log_file_path, \u001b[33m'\u001b[39m\u001b[33mr\u001b[39m\u001b[33m'\u001b[39m) \u001b[38;5;28;01mas\u001b[39;00m file:\n",
      "\u001b[36mFile \u001b[39m\u001b[32m~/miniconda3/lib/python3.13/re/__init__.py:289\u001b[39m, in \u001b[36mcompile\u001b[39m\u001b[34m(pattern, flags)\u001b[39m\n\u001b[32m    287\u001b[39m \u001b[38;5;28;01mdef\u001b[39;00m\u001b[38;5;250m \u001b[39m\u001b[34mcompile\u001b[39m(pattern, flags=\u001b[32m0\u001b[39m):\n\u001b[32m    288\u001b[39m     \u001b[33m\"\u001b[39m\u001b[33mCompile a regular expression pattern, returning a Pattern object.\u001b[39m\u001b[33m\"\u001b[39m\n\u001b[32m--> \u001b[39m\u001b[32m289\u001b[39m     \u001b[38;5;28;01mreturn\u001b[39;00m \u001b[43m_compile\u001b[49m\u001b[43m(\u001b[49m\u001b[43mpattern\u001b[49m\u001b[43m,\u001b[49m\u001b[43m \u001b[49m\u001b[43mflags\u001b[49m\u001b[43m)\u001b[49m\n",
      "\u001b[36mFile \u001b[39m\u001b[32m~/miniconda3/lib/python3.13/re/__init__.py:350\u001b[39m, in \u001b[36m_compile\u001b[39m\u001b[34m(pattern, flags)\u001b[39m\n\u001b[32m    348\u001b[39m \u001b[38;5;28;01mif\u001b[39;00m \u001b[38;5;129;01mnot\u001b[39;00m _compiler.isstring(pattern):\n\u001b[32m    349\u001b[39m     \u001b[38;5;28;01mraise\u001b[39;00m \u001b[38;5;167;01mTypeError\u001b[39;00m(\u001b[33m\"\u001b[39m\u001b[33mfirst argument must be string or compiled pattern\u001b[39m\u001b[33m\"\u001b[39m)\n\u001b[32m--> \u001b[39m\u001b[32m350\u001b[39m p = \u001b[43m_compiler\u001b[49m\u001b[43m.\u001b[49m\u001b[43mcompile\u001b[49m\u001b[43m(\u001b[49m\u001b[43mpattern\u001b[49m\u001b[43m,\u001b[49m\u001b[43m \u001b[49m\u001b[43mflags\u001b[49m\u001b[43m)\u001b[49m\n\u001b[32m    351\u001b[39m \u001b[38;5;28;01mif\u001b[39;00m flags & DEBUG:\n\u001b[32m    352\u001b[39m     \u001b[38;5;28;01mreturn\u001b[39;00m p\n",
      "\u001b[36mFile \u001b[39m\u001b[32m~/miniconda3/lib/python3.13/re/_compiler.py:748\u001b[39m, in \u001b[36mcompile\u001b[39m\u001b[34m(p, flags)\u001b[39m\n\u001b[32m    746\u001b[39m \u001b[38;5;28;01mif\u001b[39;00m isstring(p):\n\u001b[32m    747\u001b[39m     pattern = p\n\u001b[32m--> \u001b[39m\u001b[32m748\u001b[39m     p = \u001b[43m_parser\u001b[49m\u001b[43m.\u001b[49m\u001b[43mparse\u001b[49m\u001b[43m(\u001b[49m\u001b[43mp\u001b[49m\u001b[43m,\u001b[49m\u001b[43m \u001b[49m\u001b[43mflags\u001b[49m\u001b[43m)\u001b[49m\n\u001b[32m    749\u001b[39m \u001b[38;5;28;01melse\u001b[39;00m:\n\u001b[32m    750\u001b[39m     pattern = \u001b[38;5;28;01mNone\u001b[39;00m\n",
      "\u001b[36mFile \u001b[39m\u001b[32m~/miniconda3/lib/python3.13/re/_parser.py:985\u001b[39m, in \u001b[36mparse\u001b[39m\u001b[34m(str, flags, state)\u001b[39m\n\u001b[32m    983\u001b[39m \u001b[38;5;28;01mif\u001b[39;00m source.next \u001b[38;5;129;01mis\u001b[39;00m \u001b[38;5;129;01mnot\u001b[39;00m \u001b[38;5;28;01mNone\u001b[39;00m:\n\u001b[32m    984\u001b[39m     \u001b[38;5;28;01massert\u001b[39;00m source.next == \u001b[33m\"\u001b[39m\u001b[33m)\u001b[39m\u001b[33m\"\u001b[39m\n\u001b[32m--> \u001b[39m\u001b[32m985\u001b[39m     \u001b[38;5;28;01mraise\u001b[39;00m source.error(\u001b[33m\"\u001b[39m\u001b[33munbalanced parenthesis\u001b[39m\u001b[33m\"\u001b[39m)\n\u001b[32m    987\u001b[39m \u001b[38;5;28;01mfor\u001b[39;00m g \u001b[38;5;129;01min\u001b[39;00m p.state.grouprefpos:\n\u001b[32m    988\u001b[39m     \u001b[38;5;28;01mif\u001b[39;00m g >= p.state.groups:\n",
      "\u001b[31mPatternError\u001b[39m: unbalanced parenthesis at position 44"
     ]
    }
   ],
   "source": [
    "# Define the log file path\n",
    "log_file_path = '/home/imes-humanoid2/humanoid/avp_teleoperate/teleop/logs/pose_analysis_20250522_110551.log'\n",
    "\n",
    "# Initialize lists to store extracted data\n",
    "timestamps = []\n",
    "left_wrist_positions = []\n",
    "right_wrist_positions = []\n",
    "\n",
    "# Define regex patterns to extract data\n",
    "timestamp_pattern = re.compile(r'^(\\d{4}-\\d{2}-\\d{2} \\d{2}:\\d{2}:\\d{2},\\d{3})')\n",
    "left_wrist_pattern = re.compile(r'Left Wrist Analysis:.*?Position: \\(([\\d\\.-]+), ([\\d\\.-]+), ([\\d\\.-]+)\\)')\n",
    "\n",
    "right_wrist_pattern = re.compile(r'Right Wrist Analysis:.*?Position: \\([\\d\\.-]+), ([\\d\\.-]+), ([\\d\\.-]+)\\)')\n",
    "\n",
    "# Read the log file\n",
    "with open(log_file_path, 'r') as file:\n",
    "    for line in file:\n",
    "        # Extract timestamp\n",
    "        timestamp_match = timestamp_pattern.match(line)\n",
    "        if timestamp_match:\n",
    "            timestamps.append(timestamp_match.group(1))\n",
    "\n",
    "        # Extract left wrist position\n",
    "        left_wrist_match = left_wrist_pattern.search(line)\n",
    "        if left_wrist_match:\n",
    "            left_wrist_positions.append([float(left_wrist_match.group(1)), float(left_wrist_match.group(2)), float(left_wrist_match.group(3))])\n",
    "\n",
    "        # Extract right wrist position\n",
    "        right_wrist_match = right_wrist_pattern.search(line)\n",
    "        if right_wrist_match:\n",
    "            right_wrist_positions.append([float(right_wrist_match.group(1)), float(right_wrist_match.group(2)), float(right_wrist_match.group(3))])\n",
    "\n",
    "# Create a DataFrame\n",
    "data = pd.DataFrame({\n",
    "    'timestamp': timestamps[:len(left_wrist_positions)],\n",
    "    'left_wrist_x': [pos[0] for pos in left_wrist_positions],\n",
    "    'left_wrist_y': [pos[1] for pos in left_wrist_positions],\n",
    "    'left_wrist_z': [pos[2] for pos in left_wrist_positions],\n",
    "    'right_wrist_x': [pos[0] for pos in right_wrist_positions],\n",
    "    'right_wrist_y': [pos[1] for pos in right_wrist_positions],\n",
    "    'right_wrist_z': [pos[2] for pos in right_wrist_positions]\n",
    "})\n",
    "\n",
    "# Display the first few rows of the data\n",
    "print(data.head())"
   ]
  },
  {
   "cell_type": "markdown",
   "id": "0c07ce12",
   "metadata": {},
   "source": [
    "# Parse Hand Tracking Data\n",
    "Extract relevant hand tracking data from the log files, such as hand positions, orientations, and timestamps."
   ]
  },
  {
   "cell_type": "code",
   "execution_count": null,
   "id": "97bb74c0",
   "metadata": {},
   "outputs": [],
   "source": [
    "# Parse Hand Tracking Data\n",
    "# Assuming the log file contains columns like 'timestamp', 'left_wrist_x', 'left_wrist_y', 'left_wrist_z'\n",
    "hand_tracking_data = data[['timestamp', 'left_wrist_x', 'left_wrist_y', 'left_wrist_z']]\n",
    "\n",
    "# Convert timestamp to a datetime object for easier analysis\n",
    "hand_tracking_data['timestamp'] = pd.to_datetime(hand_tracking_data['timestamp'])\n",
    "\n",
    "# Display the parsed hand tracking data\n",
    "print(hand_tracking_data.head())"
   ]
  },
  {
   "cell_type": "markdown",
   "id": "e29e7e8d",
   "metadata": {},
   "source": [
    "# Visualize Hand Tracking Data\n",
    "Create plots to visualize the hand tracking data over time, including position and orientation changes."
   ]
  },
  {
   "cell_type": "code",
   "execution_count": null,
   "id": "8a3ea744",
   "metadata": {},
   "outputs": [],
   "source": [
    "# Visualize Hand Tracking Data\n",
    "plt.figure(figsize=(10, 6))\n",
    "\n",
    "# Plot hand positions over time\n",
    "plt.plot(hand_tracking_data['timestamp'], hand_tracking_data['left_wrist_x'], label='X Position')\n",
    "plt.plot(hand_tracking_data['timestamp'], hand_tracking_data['left_wrist_y'], label='Y Position')\n",
    "plt.plot(hand_tracking_data['timestamp'], hand_tracking_data['left_wrist_z'], label='Z Position')\n",
    "\n",
    "plt.title('Hand Tracking Data Over Time')\n",
    "plt.xlabel('Timestamp')\n",
    "plt.ylabel('Position')\n",
    "plt.legend()\n",
    "plt.grid()\n",
    "plt.show()"
   ]
  },
  {
   "cell_type": "markdown",
   "id": "f5849af2",
   "metadata": {},
   "source": [
    "# Analyze Discrepancies in Hand Tracking\n",
    "Identify anomalies or inconsistencies in the hand tracking data, such as sudden jumps or unrealistic values."
   ]
  },
  {
   "cell_type": "code",
   "execution_count": null,
   "id": "1358f5a8",
   "metadata": {},
   "outputs": [],
   "source": [
    "# Analyze Discrepancies in Hand Tracking\n",
    "# Calculate differences between consecutive positions to identify sudden jumps\n",
    "hand_tracking_data['position_diff'] = hand_tracking_data[['left_wrist_x', 'left_wrist_y', 'left_wrist_z']].diff().abs().sum(axis=1)\n",
    "\n",
    "# Identify rows where the position difference exceeds a threshold (e.g., 10 units)\n",
    "anomalies = hand_tracking_data[hand_tracking_data['position_diff'] > 10]\n",
    "\n",
    "# Display anomalies\n",
    "print(\"Anomalies in hand tracking data:\")\n",
    "print(anomalies)"
   ]
  },
  {
   "cell_type": "markdown",
   "id": "b49346a2",
   "metadata": {},
   "source": [
    "# Correlate Hand Tracking with Robot Movements\n",
    "Compare the hand tracking data with the robot's hand movements to identify patterns or mismatches."
   ]
  },
  {
   "cell_type": "code",
   "execution_count": null,
   "id": "4934a23e",
   "metadata": {},
   "outputs": [],
   "source": [
    "# Correlate Hand Tracking with Robot Movements\n",
    "# Assuming the log file also contains robot movement data in columns like 'robot_hand_position_x', 'robot_hand_position_y', 'robot_hand_position_z'\n",
    "robot_movement_data = data[['timestamp', 'right_wrist_x', 'right_wrist_y', 'right_wrist_z']]\n",
    "\n",
    "# Merge hand tracking data with robot movement data on the timestamp\n",
    "merged_data = pd.merge(hand_tracking_data, robot_movement_data, on='timestamp')\n",
    "\n",
    "# Calculate differences between hand tracking and robot movements\n",
    "merged_data['tracking_robot_diff'] = merged_data[['left_wrist_x', 'right_wrist_x']].diff().abs().sum(axis=1)\n",
    "\n",
    "# Display the merged data with differences\n",
    "print(merged_data.head())"
   ]
  },
  {
   "cell_type": "markdown",
   "id": "fc4b28d2",
   "metadata": {},
   "source": [
    "# Identify Potential Causes of Errors\n",
    "Analyze the visualizations and correlations to hypothesize whether the strange behavior is caused by bad hand tracking or other factors."
   ]
  },
  {
   "cell_type": "code",
   "execution_count": null,
   "id": "55dfff1b",
   "metadata": {},
   "outputs": [],
   "source": [
    "# Identify Potential Causes of Errors\n",
    "# Hypothesize based on visualizations and discrepancies\n",
    "# For example, if anomalies in hand tracking data align with robot movement errors, it may indicate bad hand tracking\n",
    "if not anomalies.empty:\n",
    "    print(\"Potential causes of errors identified in hand tracking data.\")\n",
    "else:\n",
    "    print(\"No significant anomalies detected in hand tracking data.\")"
   ]
  },
  {
   "cell_type": "markdown",
   "id": "a43197cd",
   "metadata": {},
   "source": [
    "# Parse Log File and Save as CSV\n",
    "Extract relevant data from the log file and save it as a CSV file for further analysis."
   ]
  },
  {
   "cell_type": "code",
   "execution_count": null,
   "id": "4f39df6a",
   "metadata": {},
   "outputs": [],
   "source": [
    "# Identify Potential Causes\n",
    "low_confidence_threshold = 0.5\n",
    "sudden_jump_threshold = 0.1  # Example threshold for sudden position changes\n",
    "\n",
    "# Identify low confidence periods\n",
    "low_confidence_periods = df[df[\"confidence\"] < low_confidence_threshold]\n",
    "\n",
    "# Identify sudden jumps in position\n",
    "df[\"position_change\"] = df[\"actual_position\"].diff().apply(lambda x: np.linalg.norm(x) if isinstance(x, tuple) else 0)\n",
    "sudden_jumps = df[df[\"position_change\"] > sudden_jump_threshold]\n",
    "\n",
    "print(\"Low Confidence Periods:\")\n",
    "print(low_confidence_periods)\n",
    "\n",
    "print(\"\\nSudden Jumps in Position:\")\n",
    "print(sudden_jumps)"
   ]
  }
 ],
 "metadata": {
  "kernelspec": {
   "display_name": "base",
   "language": "python",
   "name": "python3"
  },
  "language_info": {
   "codemirror_mode": {
    "name": "ipython",
    "version": 3
   },
   "file_extension": ".py",
   "mimetype": "text/x-python",
   "name": "python",
   "nbconvert_exporter": "python",
   "pygments_lexer": "ipython3",
   "version": "3.13.2"
  }
 },
 "nbformat": 4,
 "nbformat_minor": 5
}
