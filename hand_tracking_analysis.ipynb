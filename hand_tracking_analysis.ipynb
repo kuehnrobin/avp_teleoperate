{
 "cells": [
  {
   "cell_type": "markdown",
   "id": "06b0a9ea",
   "metadata": {},
   "source": [
    "# Import Required Libraries\n",
    "Import libraries such as pandas, matplotlib, and numpy for data analysis and visualization."
   ]
  },
  {
   "cell_type": "code",
   "execution_count": null,
   "id": "d73c2001",
   "metadata": {},
   "outputs": [],
   "source": [
    "# Import Required Libraries\n",
    "import pandas as pd\n",
    "import matplotlib.pyplot as plt\n",
    "import numpy as np\n",
    "import re"
   ]
  },
  {
   "cell_type": "markdown",
   "id": "4e4efd28",
   "metadata": {},
   "source": [
    "# Parse Log File and Extract Data\n",
    "Extract relevant data directly from the .log file for analysis."
   ]
  },
  {
   "cell_type": "code",
   "execution_count": null,
   "id": "2c22c341",
   "metadata": {},
   "outputs": [],
   "source": [
    "# Define the log file path\n",
    "log_file_path = '/home/imes-humanoid2/humanoid/avp_teleoperate/teleop/logs/pose_analysis_20250522_110551.log'\n",
    "\n",
    "# Initialize lists to store extracted data\n",
    "timestamps = []\n",
    "left_wrist_positions = []\n",
    "right_wrist_positions = []\n",
    "\n",
    "# Define regex patterns to extract data\n",
    "timestamp_pattern = re.compile(r'^(\\d{4}-\\d{2}-\\d{2} \\d{2}:\\d{2}:\\d{2},\\d{3})')\n",
    "left_wrist_pattern = re.compile(r'Left Wrist Analysis:.*?Position: \\([\\d\\.-]+), ([\\d\\.-]+), ([\\d\\.-]+)\\')\n",
    "right_wrist_pattern = re.compile(r'Right Wrist Analysis:.*?Position: \\([\\d\\.-]+), ([\\d\\.-]+), ([\\d\\.-]+)\\')\n",
    "\n",
    "# Read the log file\n",
    "with open(log_file_path, 'r') as file:\n",
    "    for line in file:\n",
    "        # Extract timestamp\n",
    "        timestamp_match = timestamp_pattern.match(line)\n",
    "        if timestamp_match:\n",
    "            timestamps.append(timestamp_match.group(1))\n",
    "\n",
    "        # Extract left wrist position\n",
    "        left_wrist_match = left_wrist_pattern.search(line)\n",
    "        if left_wrist_match:\n",
    "            left_wrist_positions.append([float(left_wrist_match.group(1)), float(left_wrist_match.group(2)), float(left_wrist_match.group(3))])\n",
    "\n",
    "        # Extract right wrist position\n",
    "        right_wrist_match = right_wrist_pattern.search(line)\n",
    "        if right_wrist_match:\n",
    "            right_wrist_positions.append([float(right_wrist_match.group(1)), float(right_wrist_match.group(2)), float(right_wrist_match.group(3))])\n",
    "\n",
    "# Create a DataFrame\n",
    "data = pd.DataFrame({\n",
    "    'timestamp': timestamps[:len(left_wrist_positions)],\n",
    "    'left_wrist_x': [pos[0] for pos in left_wrist_positions],\n",
    "    'left_wrist_y': [pos[1] for pos in left_wrist_positions],\n",
    "    'left_wrist_z': [pos[2] for pos in left_wrist_positions],\n",
    "    'right_wrist_x': [pos[0] for pos in right_wrist_positions],\n",
    "    'right_wrist_y': [pos[1] for pos in right_wrist_positions],\n",
    "    'right_wrist_z': [pos[2] for pos in right_wrist_positions]\n",
    "})\n",
    "\n",
    "# Display the first few rows of the data\n",
    "print(data.head())"
   ]
  },
  {
   "cell_type": "markdown",
   "id": "0c07ce12",
   "metadata": {},
   "source": [
    "# Parse Hand Tracking Data\n",
    "Extract relevant hand tracking data from the log files, such as hand positions, orientations, and timestamps."
   ]
  },
  {
   "cell_type": "code",
   "execution_count": null,
   "id": "97bb74c0",
   "metadata": {},
   "outputs": [],
   "source": [
    "# Parse Hand Tracking Data\n",
    "# Assuming the log file contains columns like 'timestamp', 'left_wrist_x', 'left_wrist_y', 'left_wrist_z'\n",
    "hand_tracking_data = data[['timestamp', 'left_wrist_x', 'left_wrist_y', 'left_wrist_z']]\n",
    "\n",
    "# Convert timestamp to a datetime object for easier analysis\n",
    "hand_tracking_data['timestamp'] = pd.to_datetime(hand_tracking_data['timestamp'])\n",
    "\n",
    "# Display the parsed hand tracking data\n",
    "print(hand_tracking_data.head())"
   ]
  },
  {
   "cell_type": "markdown",
   "id": "e29e7e8d",
   "metadata": {},
   "source": [
    "# Visualize Hand Tracking Data\n",
    "Create plots to visualize the hand tracking data over time, including position and orientation changes."
   ]
  },
  {
   "cell_type": "code",
   "execution_count": null,
   "id": "8a3ea744",
   "metadata": {},
   "outputs": [],
   "source": [
    "# Visualize Hand Tracking Data\n",
    "plt.figure(figsize=(10, 6))\n",
    "\n",
    "# Plot hand positions over time\n",
    "plt.plot(hand_tracking_data['timestamp'], hand_tracking_data['left_wrist_x'], label='X Position')\n",
    "plt.plot(hand_tracking_data['timestamp'], hand_tracking_data['left_wrist_y'], label='Y Position')\n",
    "plt.plot(hand_tracking_data['timestamp'], hand_tracking_data['left_wrist_z'], label='Z Position')\n",
    "\n",
    "plt.title('Hand Tracking Data Over Time')\n",
    "plt.xlabel('Timestamp')\n",
    "plt.ylabel('Position')\n",
    "plt.legend()\n",
    "plt.grid()\n",
    "plt.show()"
   ]
  },
  {
   "cell_type": "markdown",
   "id": "f5849af2",
   "metadata": {},
   "source": [
    "# Analyze Discrepancies in Hand Tracking\n",
    "Identify anomalies or inconsistencies in the hand tracking data, such as sudden jumps or unrealistic values."
   ]
  },
  {
   "cell_type": "code",
   "execution_count": null,
   "id": "1358f5a8",
   "metadata": {},
   "outputs": [],
   "source": [
    "# Analyze Discrepancies in Hand Tracking\n",
    "# Calculate differences between consecutive positions to identify sudden jumps\n",
    "hand_tracking_data['position_diff'] = hand_tracking_data[['left_wrist_x', 'left_wrist_y', 'left_wrist_z']].diff().abs().sum(axis=1)\n",
    "\n",
    "# Identify rows where the position difference exceeds a threshold (e.g., 10 units)\n",
    "anomalies = hand_tracking_data[hand_tracking_data['position_diff'] > 10]\n",
    "\n",
    "# Display anomalies\n",
    "print(\"Anomalies in hand tracking data:\")\n",
    "print(anomalies)"
   ]
  },
  {
   "cell_type": "markdown",
   "id": "b49346a2",
   "metadata": {},
   "source": [
    "# Correlate Hand Tracking with Robot Movements\n",
    "Compare the hand tracking data with the robot's hand movements to identify patterns or mismatches."
   ]
  },
  {
   "cell_type": "code",
   "execution_count": null,
   "id": "4934a23e",
   "metadata": {},
   "outputs": [],
   "source": [
    "# Correlate Hand Tracking with Robot Movements\n",
    "# Assuming the log file also contains robot movement data in columns like 'robot_hand_position_x', 'robot_hand_position_y', 'robot_hand_position_z'\n",
    "robot_movement_data = data[['timestamp', 'right_wrist_x', 'right_wrist_y', 'right_wrist_z']]\n",
    "\n",
    "# Merge hand tracking data with robot movement data on the timestamp\n",
    "merged_data = pd.merge(hand_tracking_data, robot_movement_data, on='timestamp')\n",
    "\n",
    "# Calculate differences between hand tracking and robot movements\n",
    "merged_data['tracking_robot_diff'] = merged_data[['left_wrist_x', 'right_wrist_x']].diff().abs().sum(axis=1)\n",
    "\n",
    "# Display the merged data with differences\n",
    "print(merged_data.head())"
   ]
  },
  {
   "cell_type": "markdown",
   "id": "fc4b28d2",
   "metadata": {},
   "source": [
    "# Identify Potential Causes of Errors\n",
    "Analyze the visualizations and correlations to hypothesize whether the strange behavior is caused by bad hand tracking or other factors."
   ]
  },
  {
   "cell_type": "code",
   "execution_count": null,
   "id": "55dfff1b",
   "metadata": {},
   "outputs": [],
   "source": [
    "# Identify Potential Causes of Errors\n",
    "# Hypothesize based on visualizations and discrepancies\n",
    "# For example, if anomalies in hand tracking data align with robot movement errors, it may indicate bad hand tracking\n",
    "if not anomalies.empty:\n",
    "    print(\"Potential causes of errors identified in hand tracking data.\")\n",
    "else:\n",
    "    print(\"No significant anomalies detected in hand tracking data.\")"
   ]
  },
  {
   "cell_type": "markdown",
   "id": "a43197cd",
   "metadata": {},
   "source": [
    "# Parse Log File and Save as CSV\n",
    "Extract relevant data from the log file and save it as a CSV file for further analysis."
   ]
  },
  {
   "cell_type": "code",
   "execution_count": null,
   "id": "4f39df6a",
   "metadata": {},
   "outputs": [],
   "source": [
    "# Identify Potential Causes\n",
    "low_confidence_threshold = 0.5\n",
    "sudden_jump_threshold = 0.1  # Example threshold for sudden position changes\n",
    "\n",
    "# Identify low confidence periods\n",
    "low_confidence_periods = df[df[\"confidence\"] < low_confidence_threshold]\n",
    "\n",
    "# Identify sudden jumps in position\n",
    "df[\"position_change\"] = df[\"actual_position\"].diff().apply(lambda x: np.linalg.norm(x) if isinstance(x, tuple) else 0)\n",
    "sudden_jumps = df[df[\"position_change\"] > sudden_jump_threshold]\n",
    "\n",
    "print(\"Low Confidence Periods:\")\n",
    "print(low_confidence_periods)\n",
    "\n",
    "print(\"\\nSudden Jumps in Position:\")\n",
    "print(sudden_jumps)"
   ]
  }
 ],
 "metadata": {
  "language_info": {
   "name": "python"
  }
 },
 "nbformat": 4,
 "nbformat_minor": 5
}
