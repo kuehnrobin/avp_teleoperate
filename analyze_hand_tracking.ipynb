{
 "cells": [
  {
   "cell_type": "markdown",
   "id": "6d914512",
   "metadata": {},
   "source": [
    "# Import Required Libraries\n",
    "Import libraries such as pandas, matplotlib, and numpy for data analysis and visualization."
   ]
  },
  {
   "cell_type": "code",
   "execution_count": 3,
   "id": "446d383d",
   "metadata": {},
   "outputs": [],
   "source": [
    "# Import Required Libraries\n",
    "import pandas as pd\n",
    "import numpy as np\n",
    "import matplotlib.pyplot as plt"
   ]
  },
  {
   "cell_type": "markdown",
   "id": "dd0b9518",
   "metadata": {},
   "source": [
    "# Load and Inspect Log Files\n",
    "Load the log files containing hand tracking data and robot movement data. Inspect the structure and contents of the files to understand the data format."
   ]
  },
  {
   "cell_type": "code",
   "execution_count": 4,
   "id": "97b3bbfd",
   "metadata": {},
   "outputs": [
    {
     "ename": "FileNotFoundError",
     "evalue": "[Errno 2] No such file or directory: '/home/imes-humanoid2/humanoid/avp_teleoperate/logs/hand_tracking_log.csv'",
     "output_type": "error",
     "traceback": [
      "\u001b[31m---------------------------------------------------------------------------\u001b[39m",
      "\u001b[31mFileNotFoundError\u001b[39m                         Traceback (most recent call last)",
      "\u001b[36mCell\u001b[39m\u001b[36m \u001b[39m\u001b[32mIn[4]\u001b[39m\u001b[32m, line 6\u001b[39m\n\u001b[32m      3\u001b[39m log_file_path = \u001b[33m\"\u001b[39m\u001b[33m/home/imes-humanoid2/humanoid/avp_teleoperate/logs/hand_tracking_log.csv\u001b[39m\u001b[33m\"\u001b[39m\n\u001b[32m      5\u001b[39m \u001b[38;5;66;03m# Load the log file into a pandas DataFrame\u001b[39;00m\n\u001b[32m----> \u001b[39m\u001b[32m6\u001b[39m log_data = \u001b[43mpd\u001b[49m\u001b[43m.\u001b[49m\u001b[43mread_csv\u001b[49m\u001b[43m(\u001b[49m\u001b[43mlog_file_path\u001b[49m\u001b[43m)\u001b[49m\n\u001b[32m      8\u001b[39m \u001b[38;5;66;03m# Display the first few rows of the log file to inspect its structure\u001b[39;00m\n\u001b[32m      9\u001b[39m \u001b[38;5;28mprint\u001b[39m(log_data.head())\n",
      "\u001b[36mFile \u001b[39m\u001b[32m~/miniconda3/lib/python3.13/site-packages/pandas/io/parsers/readers.py:1026\u001b[39m, in \u001b[36mread_csv\u001b[39m\u001b[34m(filepath_or_buffer, sep, delimiter, header, names, index_col, usecols, dtype, engine, converters, true_values, false_values, skipinitialspace, skiprows, skipfooter, nrows, na_values, keep_default_na, na_filter, verbose, skip_blank_lines, parse_dates, infer_datetime_format, keep_date_col, date_parser, date_format, dayfirst, cache_dates, iterator, chunksize, compression, thousands, decimal, lineterminator, quotechar, quoting, doublequote, escapechar, comment, encoding, encoding_errors, dialect, on_bad_lines, delim_whitespace, low_memory, memory_map, float_precision, storage_options, dtype_backend)\u001b[39m\n\u001b[32m   1013\u001b[39m kwds_defaults = _refine_defaults_read(\n\u001b[32m   1014\u001b[39m     dialect,\n\u001b[32m   1015\u001b[39m     delimiter,\n\u001b[32m   (...)\u001b[39m\u001b[32m   1022\u001b[39m     dtype_backend=dtype_backend,\n\u001b[32m   1023\u001b[39m )\n\u001b[32m   1024\u001b[39m kwds.update(kwds_defaults)\n\u001b[32m-> \u001b[39m\u001b[32m1026\u001b[39m \u001b[38;5;28;01mreturn\u001b[39;00m \u001b[43m_read\u001b[49m\u001b[43m(\u001b[49m\u001b[43mfilepath_or_buffer\u001b[49m\u001b[43m,\u001b[49m\u001b[43m \u001b[49m\u001b[43mkwds\u001b[49m\u001b[43m)\u001b[49m\n",
      "\u001b[36mFile \u001b[39m\u001b[32m~/miniconda3/lib/python3.13/site-packages/pandas/io/parsers/readers.py:620\u001b[39m, in \u001b[36m_read\u001b[39m\u001b[34m(filepath_or_buffer, kwds)\u001b[39m\n\u001b[32m    617\u001b[39m _validate_names(kwds.get(\u001b[33m\"\u001b[39m\u001b[33mnames\u001b[39m\u001b[33m\"\u001b[39m, \u001b[38;5;28;01mNone\u001b[39;00m))\n\u001b[32m    619\u001b[39m \u001b[38;5;66;03m# Create the parser.\u001b[39;00m\n\u001b[32m--> \u001b[39m\u001b[32m620\u001b[39m parser = \u001b[43mTextFileReader\u001b[49m\u001b[43m(\u001b[49m\u001b[43mfilepath_or_buffer\u001b[49m\u001b[43m,\u001b[49m\u001b[43m \u001b[49m\u001b[43m*\u001b[49m\u001b[43m*\u001b[49m\u001b[43mkwds\u001b[49m\u001b[43m)\u001b[49m\n\u001b[32m    622\u001b[39m \u001b[38;5;28;01mif\u001b[39;00m chunksize \u001b[38;5;129;01mor\u001b[39;00m iterator:\n\u001b[32m    623\u001b[39m     \u001b[38;5;28;01mreturn\u001b[39;00m parser\n",
      "\u001b[36mFile \u001b[39m\u001b[32m~/miniconda3/lib/python3.13/site-packages/pandas/io/parsers/readers.py:1620\u001b[39m, in \u001b[36mTextFileReader.__init__\u001b[39m\u001b[34m(self, f, engine, **kwds)\u001b[39m\n\u001b[32m   1617\u001b[39m     \u001b[38;5;28mself\u001b[39m.options[\u001b[33m\"\u001b[39m\u001b[33mhas_index_names\u001b[39m\u001b[33m\"\u001b[39m] = kwds[\u001b[33m\"\u001b[39m\u001b[33mhas_index_names\u001b[39m\u001b[33m\"\u001b[39m]\n\u001b[32m   1619\u001b[39m \u001b[38;5;28mself\u001b[39m.handles: IOHandles | \u001b[38;5;28;01mNone\u001b[39;00m = \u001b[38;5;28;01mNone\u001b[39;00m\n\u001b[32m-> \u001b[39m\u001b[32m1620\u001b[39m \u001b[38;5;28mself\u001b[39m._engine = \u001b[38;5;28;43mself\u001b[39;49m\u001b[43m.\u001b[49m\u001b[43m_make_engine\u001b[49m\u001b[43m(\u001b[49m\u001b[43mf\u001b[49m\u001b[43m,\u001b[49m\u001b[43m \u001b[49m\u001b[38;5;28;43mself\u001b[39;49m\u001b[43m.\u001b[49m\u001b[43mengine\u001b[49m\u001b[43m)\u001b[49m\n",
      "\u001b[36mFile \u001b[39m\u001b[32m~/miniconda3/lib/python3.13/site-packages/pandas/io/parsers/readers.py:1880\u001b[39m, in \u001b[36mTextFileReader._make_engine\u001b[39m\u001b[34m(self, f, engine)\u001b[39m\n\u001b[32m   1878\u001b[39m     \u001b[38;5;28;01mif\u001b[39;00m \u001b[33m\"\u001b[39m\u001b[33mb\u001b[39m\u001b[33m\"\u001b[39m \u001b[38;5;129;01mnot\u001b[39;00m \u001b[38;5;129;01min\u001b[39;00m mode:\n\u001b[32m   1879\u001b[39m         mode += \u001b[33m\"\u001b[39m\u001b[33mb\u001b[39m\u001b[33m\"\u001b[39m\n\u001b[32m-> \u001b[39m\u001b[32m1880\u001b[39m \u001b[38;5;28mself\u001b[39m.handles = \u001b[43mget_handle\u001b[49m\u001b[43m(\u001b[49m\n\u001b[32m   1881\u001b[39m \u001b[43m    \u001b[49m\u001b[43mf\u001b[49m\u001b[43m,\u001b[49m\n\u001b[32m   1882\u001b[39m \u001b[43m    \u001b[49m\u001b[43mmode\u001b[49m\u001b[43m,\u001b[49m\n\u001b[32m   1883\u001b[39m \u001b[43m    \u001b[49m\u001b[43mencoding\u001b[49m\u001b[43m=\u001b[49m\u001b[38;5;28;43mself\u001b[39;49m\u001b[43m.\u001b[49m\u001b[43moptions\u001b[49m\u001b[43m.\u001b[49m\u001b[43mget\u001b[49m\u001b[43m(\u001b[49m\u001b[33;43m\"\u001b[39;49m\u001b[33;43mencoding\u001b[39;49m\u001b[33;43m\"\u001b[39;49m\u001b[43m,\u001b[49m\u001b[43m \u001b[49m\u001b[38;5;28;43;01mNone\u001b[39;49;00m\u001b[43m)\u001b[49m\u001b[43m,\u001b[49m\n\u001b[32m   1884\u001b[39m \u001b[43m    \u001b[49m\u001b[43mcompression\u001b[49m\u001b[43m=\u001b[49m\u001b[38;5;28;43mself\u001b[39;49m\u001b[43m.\u001b[49m\u001b[43moptions\u001b[49m\u001b[43m.\u001b[49m\u001b[43mget\u001b[49m\u001b[43m(\u001b[49m\u001b[33;43m\"\u001b[39;49m\u001b[33;43mcompression\u001b[39;49m\u001b[33;43m\"\u001b[39;49m\u001b[43m,\u001b[49m\u001b[43m \u001b[49m\u001b[38;5;28;43;01mNone\u001b[39;49;00m\u001b[43m)\u001b[49m\u001b[43m,\u001b[49m\n\u001b[32m   1885\u001b[39m \u001b[43m    \u001b[49m\u001b[43mmemory_map\u001b[49m\u001b[43m=\u001b[49m\u001b[38;5;28;43mself\u001b[39;49m\u001b[43m.\u001b[49m\u001b[43moptions\u001b[49m\u001b[43m.\u001b[49m\u001b[43mget\u001b[49m\u001b[43m(\u001b[49m\u001b[33;43m\"\u001b[39;49m\u001b[33;43mmemory_map\u001b[39;49m\u001b[33;43m\"\u001b[39;49m\u001b[43m,\u001b[49m\u001b[43m \u001b[49m\u001b[38;5;28;43;01mFalse\u001b[39;49;00m\u001b[43m)\u001b[49m\u001b[43m,\u001b[49m\n\u001b[32m   1886\u001b[39m \u001b[43m    \u001b[49m\u001b[43mis_text\u001b[49m\u001b[43m=\u001b[49m\u001b[43mis_text\u001b[49m\u001b[43m,\u001b[49m\n\u001b[32m   1887\u001b[39m \u001b[43m    \u001b[49m\u001b[43merrors\u001b[49m\u001b[43m=\u001b[49m\u001b[38;5;28;43mself\u001b[39;49m\u001b[43m.\u001b[49m\u001b[43moptions\u001b[49m\u001b[43m.\u001b[49m\u001b[43mget\u001b[49m\u001b[43m(\u001b[49m\u001b[33;43m\"\u001b[39;49m\u001b[33;43mencoding_errors\u001b[39;49m\u001b[33;43m\"\u001b[39;49m\u001b[43m,\u001b[49m\u001b[43m \u001b[49m\u001b[33;43m\"\u001b[39;49m\u001b[33;43mstrict\u001b[39;49m\u001b[33;43m\"\u001b[39;49m\u001b[43m)\u001b[49m\u001b[43m,\u001b[49m\n\u001b[32m   1888\u001b[39m \u001b[43m    \u001b[49m\u001b[43mstorage_options\u001b[49m\u001b[43m=\u001b[49m\u001b[38;5;28;43mself\u001b[39;49m\u001b[43m.\u001b[49m\u001b[43moptions\u001b[49m\u001b[43m.\u001b[49m\u001b[43mget\u001b[49m\u001b[43m(\u001b[49m\u001b[33;43m\"\u001b[39;49m\u001b[33;43mstorage_options\u001b[39;49m\u001b[33;43m\"\u001b[39;49m\u001b[43m,\u001b[49m\u001b[43m \u001b[49m\u001b[38;5;28;43;01mNone\u001b[39;49;00m\u001b[43m)\u001b[49m\u001b[43m,\u001b[49m\n\u001b[32m   1889\u001b[39m \u001b[43m\u001b[49m\u001b[43m)\u001b[49m\n\u001b[32m   1890\u001b[39m \u001b[38;5;28;01massert\u001b[39;00m \u001b[38;5;28mself\u001b[39m.handles \u001b[38;5;129;01mis\u001b[39;00m \u001b[38;5;129;01mnot\u001b[39;00m \u001b[38;5;28;01mNone\u001b[39;00m\n\u001b[32m   1891\u001b[39m f = \u001b[38;5;28mself\u001b[39m.handles.handle\n",
      "\u001b[36mFile \u001b[39m\u001b[32m~/miniconda3/lib/python3.13/site-packages/pandas/io/common.py:873\u001b[39m, in \u001b[36mget_handle\u001b[39m\u001b[34m(path_or_buf, mode, encoding, compression, memory_map, is_text, errors, storage_options)\u001b[39m\n\u001b[32m    868\u001b[39m \u001b[38;5;28;01melif\u001b[39;00m \u001b[38;5;28misinstance\u001b[39m(handle, \u001b[38;5;28mstr\u001b[39m):\n\u001b[32m    869\u001b[39m     \u001b[38;5;66;03m# Check whether the filename is to be opened in binary mode.\u001b[39;00m\n\u001b[32m    870\u001b[39m     \u001b[38;5;66;03m# Binary mode does not support 'encoding' and 'newline'.\u001b[39;00m\n\u001b[32m    871\u001b[39m     \u001b[38;5;28;01mif\u001b[39;00m ioargs.encoding \u001b[38;5;129;01mand\u001b[39;00m \u001b[33m\"\u001b[39m\u001b[33mb\u001b[39m\u001b[33m\"\u001b[39m \u001b[38;5;129;01mnot\u001b[39;00m \u001b[38;5;129;01min\u001b[39;00m ioargs.mode:\n\u001b[32m    872\u001b[39m         \u001b[38;5;66;03m# Encoding\u001b[39;00m\n\u001b[32m--> \u001b[39m\u001b[32m873\u001b[39m         handle = \u001b[38;5;28;43mopen\u001b[39;49m\u001b[43m(\u001b[49m\n\u001b[32m    874\u001b[39m \u001b[43m            \u001b[49m\u001b[43mhandle\u001b[49m\u001b[43m,\u001b[49m\n\u001b[32m    875\u001b[39m \u001b[43m            \u001b[49m\u001b[43mioargs\u001b[49m\u001b[43m.\u001b[49m\u001b[43mmode\u001b[49m\u001b[43m,\u001b[49m\n\u001b[32m    876\u001b[39m \u001b[43m            \u001b[49m\u001b[43mencoding\u001b[49m\u001b[43m=\u001b[49m\u001b[43mioargs\u001b[49m\u001b[43m.\u001b[49m\u001b[43mencoding\u001b[49m\u001b[43m,\u001b[49m\n\u001b[32m    877\u001b[39m \u001b[43m            \u001b[49m\u001b[43merrors\u001b[49m\u001b[43m=\u001b[49m\u001b[43merrors\u001b[49m\u001b[43m,\u001b[49m\n\u001b[32m    878\u001b[39m \u001b[43m            \u001b[49m\u001b[43mnewline\u001b[49m\u001b[43m=\u001b[49m\u001b[33;43m\"\u001b[39;49m\u001b[33;43m\"\u001b[39;49m\u001b[43m,\u001b[49m\n\u001b[32m    879\u001b[39m \u001b[43m        \u001b[49m\u001b[43m)\u001b[49m\n\u001b[32m    880\u001b[39m     \u001b[38;5;28;01melse\u001b[39;00m:\n\u001b[32m    881\u001b[39m         \u001b[38;5;66;03m# Binary mode\u001b[39;00m\n\u001b[32m    882\u001b[39m         handle = \u001b[38;5;28mopen\u001b[39m(handle, ioargs.mode)\n",
      "\u001b[31mFileNotFoundError\u001b[39m: [Errno 2] No such file or directory: '/home/imes-humanoid2/humanoid/avp_teleoperate/logs/hand_tracking_log.csv'"
     ]
    }
   ],
   "source": [
    "# Load and Inspect Log Files\n",
    "# Replace 'log_file_path' with the actual path to your log file\n",
    "log_file_path = \"/home/imes-humanoid2/humanoid/avp_teleoperate/logs/hand_tracking_log.csv\"\n",
    "\n",
    "# Load the log file into a pandas DataFrame\n",
    "log_data = pd.read_csv(log_file_path)\n",
    "\n",
    "# Display the first few rows of the log file to inspect its structure\n",
    "print(log_data.head())"
   ]
  },
  {
   "cell_type": "markdown",
   "id": "a6b6a272",
   "metadata": {},
   "source": [
    "# Parse Hand Tracking Data\n",
    "Extract relevant hand tracking data (e.g., positions, orientations) from the log files and clean the data for analysis."
   ]
  },
  {
   "cell_type": "code",
   "execution_count": null,
   "id": "f732cd0b",
   "metadata": {},
   "outputs": [],
   "source": [
    "# Parse Hand Tracking Data\n",
    "# Extract columns related to hand positions and orientations\n",
    "hand_tracking_data = log_data[['timestamp', 'hand_x', 'hand_y', 'hand_z', 'hand_orientation']]\n",
    "\n",
    "# Drop rows with missing or invalid data\n",
    "hand_tracking_data = hand_tracking_data.dropna()\n",
    "\n",
    "# Display the cleaned data\n",
    "print(hand_tracking_data.head())"
   ]
  },
  {
   "cell_type": "markdown",
   "id": "229c93df",
   "metadata": {},
   "source": [
    "# Visualize Hand Tracking Data\n",
    "Create plots to visualize the hand tracking data over time, such as position trajectories and orientation changes."
   ]
  },
  {
   "cell_type": "code",
   "execution_count": null,
   "id": "7ef54868",
   "metadata": {},
   "outputs": [],
   "source": [
    "# Visualize Hand Tracking Data\n",
    "# Plot hand position trajectories over time\n",
    "plt.figure(figsize=(10, 6))\n",
    "plt.plot(hand_tracking_data['timestamp'], hand_tracking_data['hand_x'], label='X Position')\n",
    "plt.plot(hand_tracking_data['timestamp'], hand_tracking_data['hand_y'], label='Y Position')\n",
    "plt.plot(hand_tracking_data['timestamp'], hand_tracking_data['hand_z'], label='Z Position')\n",
    "plt.xlabel('Timestamp')\n",
    "plt.ylabel('Position')\n",
    "plt.title('Hand Position Trajectories Over Time')\n",
    "plt.legend()\n",
    "plt.show()"
   ]
  },
  {
   "cell_type": "markdown",
   "id": "2d0781b3",
   "metadata": {},
   "source": [
    "# Analyze Discrepancies in Hand Positions\n",
    "Identify and visualize discrepancies between the expected and actual hand positions to pinpoint anomalies."
   ]
  },
  {
   "cell_type": "code",
   "execution_count": null,
   "id": "fb7fc206",
   "metadata": {},
   "outputs": [],
   "source": [
    "# Analyze Discrepancies in Hand Positions\n",
    "# Assuming 'expected_hand_x', 'expected_hand_y', 'expected_hand_z' columns exist in the log file\n",
    "hand_tracking_data['discrepancy_x'] = hand_tracking_data['hand_x'] - log_data['expected_hand_x']\n",
    "hand_tracking_data['discrepancy_y'] = hand_tracking_data['hand_y'] - log_data['expected_hand_y']\n",
    "hand_tracking_data['discrepancy_z'] = hand_tracking_data['hand_z'] - log_data['expected_hand_z']\n",
    "\n",
    "# Plot discrepancies over time\n",
    "plt.figure(figsize=(10, 6))\n",
    "plt.plot(hand_tracking_data['timestamp'], hand_tracking_data['discrepancy_x'], label='X Discrepancy')\n",
    "plt.plot(hand_tracking_data['timestamp'], hand_tracking_data['discrepancy_y'], label='Y Discrepancy')\n",
    "plt.plot(hand_tracking_data['timestamp'], hand_tracking_data['discrepancy_z'], label='Z Discrepancy')\n",
    "plt.xlabel('Timestamp')\n",
    "plt.ylabel('Discrepancy')\n",
    "plt.title('Discrepancies in Hand Positions Over Time')\n",
    "plt.legend()\n",
    "plt.show()"
   ]
  },
  {
   "cell_type": "markdown",
   "id": "dc36bc7d",
   "metadata": {},
   "source": [
    "# Correlate Hand Tracking Data with Robot Movements\n",
    "Analyze the relationship between hand tracking data and robot movements to determine if bad hand tracking is causing the strange behavior."
   ]
  },
  {
   "cell_type": "code",
   "execution_count": null,
   "id": "b5ac98be",
   "metadata": {},
   "outputs": [],
   "source": [
    "# Correlate Hand Tracking Data with Robot Movements\n",
    "# Assuming 'robot_movement_x', 'robot_movement_y', 'robot_movement_z' columns exist in the log file\n",
    "robot_movement_data = log_data[['timestamp', 'robot_movement_x', 'robot_movement_y', 'robot_movement_z']]\n",
    "\n",
    "# Merge hand tracking data with robot movement data on the timestamp\n",
    "merged_data = pd.merge(hand_tracking_data, robot_movement_data, on='timestamp')\n",
    "\n",
    "# Calculate correlation between hand tracking discrepancies and robot movements\n",
    "correlation_matrix = merged_data[['discrepancy_x', 'discrepancy_y', 'discrepancy_z', \n",
    "                                  'robot_movement_x', 'robot_movement_y', 'robot_movement_z']].corr()\n",
    "\n",
    "# Display the correlation matrix\n",
    "print(correlation_matrix)"
   ]
  },
  {
   "cell_type": "markdown",
   "id": "8df2953a",
   "metadata": {},
   "source": [
    "# Import Required Libraries\n",
    "Import libraries such as pandas for data manipulation, matplotlib and seaborn for visualization, and numpy for numerical operations."
   ]
  },
  {
   "cell_type": "code",
   "execution_count": null,
   "id": "35325276",
   "metadata": {},
   "outputs": [],
   "source": [
    "# Import Required Libraries\n",
    "import pandas as pd\n",
    "import numpy as np\n",
    "import matplotlib.pyplot as plt\n",
    "import seaborn as sns"
   ]
  },
  {
   "cell_type": "markdown",
   "id": "8d23f635",
   "metadata": {},
   "source": [
    "# Load and Parse Log Files\n",
    "Write code to load the log files generated during teleoperation and parse them into a structured format (e.g., CSV or DataFrame)."
   ]
  },
  {
   "cell_type": "code",
   "execution_count": null,
   "id": "d12e9a4e",
   "metadata": {},
   "outputs": [],
   "source": [
    "# Load and Parse Log Files\n",
    "# Replace 'log_file_path' with the actual path to your log file\n",
    "log_file_path = '/path/to/log_file.log'\n",
    "\n",
    "# Example: Reading a log file and converting it into a DataFrame\n",
    "with open(log_file_path, 'r') as file:\n",
    "    log_data = file.readlines()\n",
    "\n",
    "# Parse the log data into a structured format\n",
    "parsed_data = [line.strip().split(',') for line in log_data if line.strip()]\n",
    "columns = ['timestamp', 'hand_x', 'hand_y', 'hand_z', 'robot_x', 'robot_y', 'robot_z']\n",
    "df = pd.DataFrame(parsed_data, columns=columns)\n",
    "\n",
    "# Convert numeric columns to appropriate data types\n",
    "df[['hand_x', 'hand_y', 'hand_z', 'robot_x', 'robot_y', 'robot_z']] = df[['hand_x', 'hand_y', 'hand_z', 'robot_x', 'robot_y', 'robot_z']].astype(float)\n",
    "df['timestamp'] = pd.to_datetime(df['timestamp'])"
   ]
  },
  {
   "cell_type": "markdown",
   "id": "44a91990",
   "metadata": {},
   "source": [
    "# Extract Relevant Data\n",
    "Extract key data points such as hand tracking positions, timestamps, and robot hand positions from the parsed logs."
   ]
  },
  {
   "cell_type": "code",
   "execution_count": null,
   "id": "98f0aef8",
   "metadata": {},
   "outputs": [],
   "source": [
    "# Extract Relevant Data\n",
    "# Example: Extracting hand tracking and robot positions\n",
    "hand_positions = df[['timestamp', 'hand_x', 'hand_y', 'hand_z']]\n",
    "robot_positions = df[['timestamp', 'robot_x', 'robot_y', 'robot_z']]\n",
    "\n",
    "# Display the first few rows of the extracted data\n",
    "print(\"Hand Positions:\")\n",
    "print(hand_positions.head())\n",
    "\n",
    "print(\"\\nRobot Positions:\")\n",
    "print(robot_positions.head())"
   ]
  },
  {
   "cell_type": "markdown",
   "id": "9715543f",
   "metadata": {},
   "source": [
    "# Visualize Hand Tracking Data\n",
    "Create plots to visualize the hand tracking data over time, including 3D trajectories and positional changes."
   ]
  },
  {
   "cell_type": "code",
   "execution_count": null,
   "id": "7abc42b6",
   "metadata": {},
   "outputs": [],
   "source": [
    "# Visualize Hand Tracking Data\n",
    "from mpl_toolkits.mplot3d import Axes3D\n",
    "\n",
    "# 3D Trajectory Plot for Hand Tracking\n",
    "fig = plt.figure(figsize=(10, 7))\n",
    "ax = fig.add_subplot(111, projection='3d')\n",
    "ax.plot(hand_positions['hand_x'], hand_positions['hand_y'], hand_positions['hand_z'], label='Hand Trajectory')\n",
    "ax.set_xlabel('X Position')\n",
    "ax.set_ylabel('Y Position')\n",
    "ax.set_zlabel('Z Position')\n",
    "ax.set_title('3D Hand Tracking Trajectory')\n",
    "ax.legend()\n",
    "plt.show()\n",
    "\n",
    "# Positional Changes Over Time\n",
    "plt.figure(figsize=(12, 6))\n",
    "plt.plot(hand_positions['timestamp'], hand_positions['hand_x'], label='Hand X')\n",
    "plt.plot(hand_positions['timestamp'], hand_positions['hand_y'], label='Hand Y')\n",
    "plt.plot(hand_positions['timestamp'], hand_positions['hand_z'], label='Hand Z')\n",
    "plt.xlabel('Timestamp')\n",
    "plt.ylabel('Position')\n",
    "plt.title('Hand Tracking Positional Changes Over Time')\n",
    "plt.legend()\n",
    "plt.show()"
   ]
  },
  {
   "cell_type": "markdown",
   "id": "12375461",
   "metadata": {},
   "source": [
    "# Analyze Correlation Between Hand Tracking and Robot Movements\n",
    "Compare the hand tracking data with the robot's hand positions to identify discrepancies or delays."
   ]
  },
  {
   "cell_type": "code",
   "execution_count": null,
   "id": "cdb5ec4d",
   "metadata": {},
   "outputs": [],
   "source": [
    "# Analyze Correlation Between Hand Tracking and Robot Movements\n",
    "# Calculate the differences between hand and robot positions\n",
    "df['diff_x'] = df['hand_x'] - df['robot_x']\n",
    "df['diff_y'] = df['hand_y'] - df['robot_y']\n",
    "df['diff_z'] = df['hand_z'] - df['robot_z']\n",
    "\n",
    "# Plot the differences over time\n",
    "plt.figure(figsize=(12, 6))\n",
    "plt.plot(df['timestamp'], df['diff_x'], label='Difference in X')\n",
    "plt.plot(df['timestamp'], df['diff_y'], label='Difference in Y')\n",
    "plt.plot(df['timestamp'], df['diff_z'], label='Difference in Z')\n",
    "plt.xlabel('Timestamp')\n",
    "plt.ylabel('Difference')\n",
    "plt.title('Discrepancies Between Hand Tracking and Robot Movements')\n",
    "plt.legend()\n",
    "plt.show()"
   ]
  },
  {
   "cell_type": "markdown",
   "id": "22a1293b",
   "metadata": {},
   "source": [
    "# Identify Potential Issues\n",
    "Highlight patterns or anomalies in the data that could indicate poor hand tracking or other issues causing the strange behavior."
   ]
  },
  {
   "cell_type": "code",
   "execution_count": null,
   "id": "32940def",
   "metadata": {},
   "outputs": [],
   "source": [
    "# Identify Potential Issues\n",
    "# Example: Highlighting anomalies where discrepancies exceed a threshold\n",
    "threshold = 0.1  # Define a threshold for significant discrepancies\n",
    "anomalies = df[(df['diff_x'].abs() > threshold) | (df['diff_y'].abs() > threshold) | (df['diff_z'].abs() > threshold)]\n",
    "\n",
    "print(\"Anomalies Detected:\")\n",
    "print(anomalies)\n",
    "\n",
    "# Visualize anomalies\n",
    "plt.figure(figsize=(12, 6))\n",
    "plt.scatter(anomalies['timestamp'], anomalies['diff_x'], color='red', label='Anomalous X Differences')\n",
    "plt.scatter(anomalies['timestamp'], anomalies['diff_y'], color='blue', label='Anomalous Y Differences')\n",
    "plt.scatter(anomalies['timestamp'], anomalies['diff_z'], color='green', label='Anomalous Z Differences')\n",
    "plt.xlabel('Timestamp')\n",
    "plt.ylabel('Difference')\n",
    "plt.title('Anomalies in Hand Tracking vs Robot Movements')\n",
    "plt.legend()\n",
    "plt.show()"
   ]
  },
  {
   "cell_type": "markdown",
   "id": "c271befe",
   "metadata": {},
   "source": [
    "# Import Required Libraries\n",
    "Import libraries such as pandas, matplotlib, and numpy for data analysis and visualization."
   ]
  },
  {
   "cell_type": "code",
   "execution_count": null,
   "id": "40514a14",
   "metadata": {},
   "outputs": [],
   "source": [
    "# Import Required Libraries\n",
    "import pandas as pd\n",
    "import numpy as np\n",
    "import matplotlib.pyplot as plt\n",
    "from mpl_toolkits.mplot3d import Axes3D"
   ]
  },
  {
   "cell_type": "markdown",
   "id": "5c2ce6e1",
   "metadata": {},
   "source": [
    "# Load and Parse Log Files\n",
    "Write code to load the log files generated during teleoperation and parse them into a structured format (e.g., CSV or DataFrame)."
   ]
  },
  {
   "cell_type": "code",
   "execution_count": null,
   "id": "b7fe478b",
   "metadata": {},
   "outputs": [],
   "source": [
    "# Load and Parse Log Files\n",
    "log_file_path = \"/home/imes-humanoid2/humanoid/avp_teleoperate/logs/teleoperation_log.txt\"\n",
    "\n",
    "# Load the log file\n",
    "with open(log_file_path, 'r') as file:\n",
    "    log_data = file.readlines()\n",
    "\n",
    "# Parse the log data into a structured format\n",
    "parsed_data = []\n",
    "for line in log_data:\n",
    "    if line.strip():  # Skip empty lines\n",
    "        timestamp, hand_position, robot_position = line.split(',')\n",
    "        parsed_data.append({\n",
    "            \"timestamp\": float(timestamp),\n",
    "            \"hand_position\": [float(x) for x in hand_position.split()],\n",
    "            \"robot_position\": [float(x) for x in robot_position.split()]\n",
    "        })\n",
    "\n",
    "# Convert to a DataFrame\n",
    "df = pd.DataFrame(parsed_data)\n",
    "df.head()"
   ]
  },
  {
   "cell_type": "markdown",
   "id": "831ebefb",
   "metadata": {},
   "source": [
    "# Extract Relevant Data\n",
    "Extract key data points such as hand tracking positions, timestamps, and robot hand positions from the parsed log files."
   ]
  },
  {
   "cell_type": "code",
   "execution_count": null,
   "id": "f4177100",
   "metadata": {},
   "outputs": [],
   "source": [
    "# Extract Relevant Data\n",
    "timestamps = df['timestamp']\n",
    "hand_positions = np.array(df['hand_position'].tolist())\n",
    "robot_positions = np.array(df['robot_position'].tolist())\n",
    "\n",
    "# Display the first few rows of extracted data\n",
    "print(\"Timestamps:\", timestamps.head())\n",
    "print(\"Hand Positions:\", hand_positions[:5])\n",
    "print(\"Robot Positions:\", robot_positions[:5])"
   ]
  },
  {
   "cell_type": "markdown",
   "id": "104c0c62",
   "metadata": {},
   "source": [
    "# Visualize Hand Tracking Data\n",
    "Create plots to visualize the hand tracking data over time, including 3D trajectories and positional errors."
   ]
  },
  {
   "cell_type": "code",
   "execution_count": null,
   "id": "edc706c8",
   "metadata": {},
   "outputs": [],
   "source": [
    "# Visualize Hand Tracking Data\n",
    "\n",
    "# 3D Trajectory Plot for Hand Tracking\n",
    "fig = plt.figure()\n",
    "ax = fig.add_subplot(111, projection='3d')\n",
    "ax.plot(hand_positions[:, 0], hand_positions[:, 1], hand_positions[:, 2], label='Hand Trajectory')\n",
    "ax.set_title('3D Hand Tracking Trajectory')\n",
    "ax.set_xlabel('X Position')\n",
    "ax.set_ylabel('Y Position')\n",
    "ax.set_zlabel('Z Position')\n",
    "ax.legend()\n",
    "plt.show()\n",
    "\n",
    "# Positional Error Over Time\n",
    "positional_errors = np.linalg.norm(hand_positions - robot_positions, axis=1)\n",
    "plt.figure()\n",
    "plt.plot(timestamps, positional_errors, label='Positional Error')\n",
    "plt.title('Positional Error Over Time')\n",
    "plt.xlabel('Timestamp')\n",
    "plt.ylabel('Error (units)')\n",
    "plt.legend()\n",
    "plt.show()"
   ]
  },
  {
   "cell_type": "markdown",
   "id": "a693339a",
   "metadata": {},
   "source": [
    "# Analyze Correlation Between Hand Tracking and Robot Movements\n",
    "Analyze the relationship between hand tracking data and robot hand movements to identify discrepancies or delays."
   ]
  },
  {
   "cell_type": "code",
   "execution_count": null,
   "id": "a08cbd50",
   "metadata": {},
   "outputs": [],
   "source": [
    "# Analyze Correlation Between Hand Tracking and Robot Movements\n",
    "\n",
    "# Calculate correlation coefficients\n",
    "correlation_x = np.corrcoef(hand_positions[:, 0], robot_positions[:, 0])[0, 1]\n",
    "correlation_y = np.corrcoef(hand_positions[:, 1], robot_positions[:, 1])[0, 1]\n",
    "correlation_z = np.corrcoef(hand_positions[:, 2], robot_positions[:, 2])[0, 1]\n",
    "\n",
    "print(f\"Correlation (X-axis): {correlation_x}\")\n",
    "print(f\"Correlation (Y-axis): {correlation_y}\")\n",
    "print(f\"Correlation (Z-axis): {correlation_z}\")"
   ]
  },
  {
   "cell_type": "markdown",
   "id": "045038aa",
   "metadata": {},
   "source": [
    "# Identify Potential Issues\n",
    "Highlight patterns or anomalies in the data that could indicate poor hand tracking or other issues causing the strange behavior."
   ]
  },
  {
   "cell_type": "code",
   "execution_count": null,
   "id": "ff107095",
   "metadata": {},
   "outputs": [],
   "source": [
    "# Identify Potential Issues\n",
    "\n",
    "# Identify timestamps with high positional error\n",
    "error_threshold = 0.1  # Define a threshold for significant error\n",
    "anomalies = timestamps[positional_errors > error_threshold]\n",
    "\n",
    "print(\"Anomalies detected at the following timestamps:\")\n",
    "print(anomalies.tolist())\n",
    "\n",
    "# Highlight anomalies in the 3D trajectory plot\n",
    "fig = plt.figure()\n",
    "ax = fig.add_subplot(111, projection='3d')\n",
    "ax.plot(hand_positions[:, 0], hand_positions[:, 1], hand_positions[:, 2], label='Hand Trajectory')\n",
    "ax.scatter(hand_positions[positional_errors > error_threshold, 0],\n",
    "           hand_positions[positional_errors > error_threshold, 1],\n",
    "           hand_positions[positional_errors > error_threshold, 2],\n",
    "           color='red', label='Anomalies')\n",
    "ax.set_title('3D Hand Tracking Trajectory with Anomalies')\n",
    "ax.set_xlabel('X Position')\n",
    "ax.set_ylabel('Y Position')\n",
    "ax.set_zlabel('Z Position')\n",
    "ax.legend()\n",
    "plt.show()"
   ]
  },
  {
   "cell_type": "markdown",
   "id": "ae8aaae5",
   "metadata": {},
   "source": [
    "# Import Required Libraries\n",
    "Import libraries such as pandas, matplotlib, and numpy for data analysis and visualization."
   ]
  },
  {
   "cell_type": "code",
   "execution_count": null,
   "id": "8bf83903",
   "metadata": {},
   "outputs": [],
   "source": [
    "# Import Required Libraries\n",
    "import pandas as pd\n",
    "import matplotlib.pyplot as plt\n",
    "import numpy as np"
   ]
  },
  {
   "cell_type": "markdown",
   "id": "0d446ffb",
   "metadata": {},
   "source": [
    "# Load and Parse Log Files\n",
    "Write code to load the log files generated during teleoperation and parse them into a structured format (e.g., CSV or DataFrame)."
   ]
  },
  {
   "cell_type": "code",
   "execution_count": null,
   "id": "7bb1498c",
   "metadata": {},
   "outputs": [],
   "source": [
    "# Load and Parse Log Files\n",
    "# Replace 'log_file_path' with the actual path to your log file\n",
    "log_file_path = '/path/to/log_file.log'\n",
    "\n",
    "# Example: Reading a log file and converting it into a DataFrame\n",
    "data = []\n",
    "with open(log_file_path, 'r') as file:\n",
    "    for line in file:\n",
    "        # Assuming log lines are comma-separated\n",
    "        data.append(line.strip().split(','))\n",
    "\n",
    "# Convert to DataFrame\n",
    "columns = ['timestamp', 'hand_position_x', 'hand_position_y', 'hand_position_z', \n",
    "           'hand_orientation_x', 'hand_orientation_y', 'hand_orientation_z', \n",
    "           'robot_hand_position_x', 'robot_hand_position_y', 'robot_hand_position_z']\n",
    "df = pd.DataFrame(data, columns=columns)\n",
    "\n",
    "# Convert numeric columns to appropriate data types\n",
    "for col in columns[1:]:\n",
    "    df[col] = pd.to_numeric(df[col], errors='coerce')\n",
    "\n",
    "df.head()"
   ]
  },
  {
   "cell_type": "markdown",
   "id": "acd0c9b1",
   "metadata": {},
   "source": [
    "# Extract Relevant Data\n",
    "Extract key data points such as hand positions, orientations, timestamps, and robot hand positions from the parsed log files."
   ]
  },
  {
   "cell_type": "code",
   "execution_count": null,
   "id": "89eb4143",
   "metadata": {},
   "outputs": [],
   "source": [
    "# Extract Relevant Data\n",
    "# Extracting hand positions and robot hand positions\n",
    "hand_positions = df[['hand_position_x', 'hand_position_y', 'hand_position_z']]\n",
    "robot_hand_positions = df[['robot_hand_position_x', 'robot_hand_position_y', 'robot_hand_position_z']]\n",
    "\n",
    "# Extracting timestamps\n",
    "timestamps = pd.to_datetime(df['timestamp'])\n",
    "\n",
    "# Display the first few rows of extracted data\n",
    "print(\"Hand Positions:\")\n",
    "print(hand_positions.head())\n",
    "print(\"\\nRobot Hand Positions:\")\n",
    "print(robot_hand_positions.head())"
   ]
  },
  {
   "cell_type": "markdown",
   "id": "0985778c",
   "metadata": {},
   "source": [
    "# Visualize Hand Tracking Data\n",
    "Create plots to visualize the hand tracking data over time, including positions and orientations of the hands."
   ]
  },
  {
   "cell_type": "code",
   "execution_count": null,
   "id": "eeeb2c8b",
   "metadata": {},
   "outputs": [],
   "source": [
    "# Visualize Hand Tracking Data\n",
    "# Plot hand positions over time\n",
    "plt.figure(figsize=(10, 6))\n",
    "plt.plot(timestamps, hand_positions['hand_position_x'], label='Hand Position X')\n",
    "plt.plot(timestamps, hand_positions['hand_position_y'], label='Hand Position Y')\n",
    "plt.plot(timestamps, hand_positions['hand_position_z'], label='Hand Position Z')\n",
    "plt.xlabel('Timestamp')\n",
    "plt.ylabel('Position')\n",
    "plt.title('Hand Tracking Data Over Time')\n",
    "plt.legend()\n",
    "plt.grid()\n",
    "plt.show()"
   ]
  },
  {
   "cell_type": "markdown",
   "id": "ec626277",
   "metadata": {},
   "source": [
    "# Analyze Correlation Between Hand Tracking and Robot Movements\n",
    "Compare the hand tracking data with the robot's hand movements to identify discrepancies or delays."
   ]
  },
  {
   "cell_type": "code",
   "execution_count": null,
   "id": "cee5f14c",
   "metadata": {},
   "outputs": [],
   "source": [
    "# Analyze Correlation Between Hand Tracking and Robot Movements\n",
    "# Calculate the difference between hand positions and robot hand positions\n",
    "position_differences = hand_positions.values - robot_hand_positions.values\n",
    "\n",
    "# Plot the differences over time\n",
    "plt.figure(figsize=(10, 6))\n",
    "plt.plot(timestamps, position_differences[:, 0], label='Difference in X')\n",
    "plt.plot(timestamps, position_differences[:, 1], label='Difference in Y')\n",
    "plt.plot(timestamps, position_differences[:, 2], label='Difference in Z')\n",
    "plt.xlabel('Timestamp')\n",
    "plt.ylabel('Position Difference')\n",
    "plt.title('Discrepancies Between Hand Tracking and Robot Movements')\n",
    "plt.legend()\n",
    "plt.grid()\n",
    "plt.show()"
   ]
  },
  {
   "cell_type": "markdown",
   "id": "fe469e41",
   "metadata": {},
   "source": [
    "# Identify Potential Issues\n",
    "Highlight patterns or anomalies in the data that could indicate poor hand tracking or other issues causing the strange behavior."
   ]
  },
  {
   "cell_type": "code",
   "execution_count": null,
   "id": "03b9ccfe",
   "metadata": {},
   "outputs": [],
   "source": [
    "# Identify Potential Issues\n",
    "# Example: Identifying timestamps where discrepancies exceed a threshold\n",
    "threshold = 0.1  # Define a threshold for significant discrepancies\n",
    "anomalies = np.abs(position_differences) > threshold\n",
    "\n",
    "# Find timestamps with anomalies\n",
    "anomalous_timestamps = timestamps[np.any(anomalies, axis=1)]\n",
    "\n",
    "print(\"Anomalous Timestamps:\")\n",
    "print(anomalous_timestamps)\n",
    "\n",
    "# Highlight anomalies in the plot\n",
    "plt.figure(figsize=(10, 6))\n",
    "plt.plot(timestamps, position_differences[:, 0], label='Difference in X')\n",
    "plt.plot(timestamps, position_differences[:, 1], label='Difference in Y')\n",
    "plt.plot(timestamps, position_differences[:, 2], label='Difference in Z')\n",
    "plt.scatter(anomalous_timestamps, [0] * len(anomalous_timestamps), color='red', label='Anomalies', zorder=5)\n",
    "plt.xlabel('Timestamp')\n",
    "plt.ylabel('Position Difference')\n",
    "plt.title('Anomalies in Hand Tracking and Robot Movements')\n",
    "plt.legend()\n",
    "plt.grid()\n",
    "plt.show()"
   ]
  }
 ],
 "metadata": {
  "kernelspec": {
   "display_name": "base",
   "language": "python",
   "name": "python3"
  },
  "language_info": {
   "codemirror_mode": {
    "name": "ipython",
    "version": 3
   },
   "file_extension": ".py",
   "mimetype": "text/x-python",
   "name": "python",
   "nbconvert_exporter": "python",
   "pygments_lexer": "ipython3",
   "version": "3.13.2"
  }
 },
 "nbformat": 4,
 "nbformat_minor": 5
}
